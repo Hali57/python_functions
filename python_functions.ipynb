{
  "nbformat": 4,
  "nbformat_minor": 0,
  "metadata": {
    "colab": {
      "provenance": [],
      "authorship_tag": "ABX9TyMt4bTFAP1+wMvduuR/0mlg",
      "include_colab_link": true
    },
    "kernelspec": {
      "name": "python3",
      "display_name": "Python 3"
    },
    "language_info": {
      "name": "python"
    }
  },
  "cells": [
    {
      "cell_type": "markdown",
      "metadata": {
        "id": "view-in-github",
        "colab_type": "text"
      },
      "source": [
        "<a href=\"https://colab.research.google.com/github/Hali57/python_functions/blob/main/python_functions.ipynb\" target=\"_parent\"><img src=\"https://colab.research.google.com/assets/colab-badge.svg\" alt=\"Open In Colab\"/></a>"
      ]
    },
    {
      "cell_type": "markdown",
      "source": [
        "#Python Functions"
      ],
      "metadata": {
        "id": "_cpj566iOTET"
      }
    },
    {
      "cell_type": "code",
      "execution_count": null,
      "metadata": {
        "id": "xmA6TMlBNQ0p"
      },
      "outputs": [],
      "source": [
        "#1)create a function called calculate_discount(price, discount_percent)\n",
        "#if discount >=20% apply it otherwise return the original price.\n",
        "#2)Using the same function  Prompt the user to provide the parameters and apply the discount condition.\n",
        "\n",
        "def calculate_discount(price =None, discount_percent=None):\n",
        "  #check if the function has any arguments if not prompt user for price and discount\n",
        "\n",
        "  if (price is None)  & (discount_percent is None):\n",
        "      print(\"Check the price of an item after applying a discount \\n\")\n",
        "\n",
        "      original_price = int(input(\"Enter original price: \"))\n",
        "      discount = input(\"Enter the discount percentage: \")\n",
        "\n",
        "      if len(discount) == 0:\n",
        "        print(f\"Since the item has no discount the price is:{original_price}\")\n",
        "        return\n",
        "      else:\n",
        "        final_price = original_price *(100 - int(discount))/100\n",
        "        print(f\"The final price after discount is: {final_price}\")\n",
        "        return\n",
        "\n",
        "  #if the function has arguments use them to determine the price after discount\n",
        "\n",
        "  if discount_percent >= 20:\n",
        "    new_price = price *(100 - discount_percent)/100\n",
        "    print(f\"The new price is: {new_price}\")\n",
        "  else:\n",
        "    print(f\"Unfortunately the discount is below 20% thus the price is: {price}\")\n",
        "\n",
        "\n",
        "calculate_discount(1000, 10)\n",
        "print(\"\\n\")\n",
        "calculate_discount()\n",
        "\n"
      ]
    },
    {
      "cell_type": "code",
      "source": [],
      "metadata": {
        "id": "28Nk0086cAx8"
      },
      "execution_count": null,
      "outputs": []
    }
  ]
}